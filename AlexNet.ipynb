{
 "cells": [
  {
   "cell_type": "code",
   "execution_count": 1,
   "metadata": {},
   "outputs": [],
   "source": [
    "import torchvision"
   ]
  },
  {
   "cell_type": "code",
   "execution_count": 2,
   "metadata": {},
   "outputs": [],
   "source": [
    "alexnet=torchvision.models.alexnet()"
   ]
  },
  {
   "cell_type": "code",
   "execution_count": 3,
   "metadata": {},
   "outputs": [],
   "source": [
    "import torch.nn as nn"
   ]
  },
  {
   "cell_type": "code",
   "execution_count": 4,
   "metadata": {},
   "outputs": [],
   "source": [
    "#input size 1*28*28, 10 classes\n",
    "class LeNet5(nn.Module):\n",
    "    def __init__(self):\n",
    "        super(LeNet5, self).__init()\n",
    "        \n",
    "        self.features=nn.Sequential(\n",
    "            nn.Conv2d(1, 6, kernel_size=5, stride=1),\n",
    "            nn.ReLU(True),\n",
    "            nn.MaxPool2d(size=2, stride=2, dilation=1),\n",
    "            nn.Conv2d(6, 16, kernel_size=5, stride=1),\n",
    "            nn.ReLU(True),\n",
    "            nn.MaxPool2d(size=2, stride=2, dilation=1),)\n",
    "        \n",
    "        self.classifier=nn.Sequential(\n",
    "            nn.Linear(256, 120),\n",
    "            nn.ReLU(True),\n",
    "            nn.Linear(120, 84),\n",
    "            nn.ReLU(True),\n",
    "            nn.Linear(84, 10))\n",
    "        \n",
    "        \n",
    "    def forward(self, x):\n",
    "        x=self.features(x)\n",
    "        x=x.view(x.size(0),-1)\n",
    "        x=self.classifier(x)\n",
    "        "
   ]
  },
  {
   "cell_type": "code",
   "execution_count": 6,
   "metadata": {},
   "outputs": [],
   "source": [
    "#input size 3*244*244, 1000 classes\n",
    "class AlexNet(nn.Module):\n",
    "    def __init__(self):\n",
    "        super(AlexNet, self).__init__()\n",
    "    \n",
    "        self.features=nn.Sequential(\n",
    "            nn.Conv2d(3, 64, kernel_size=11, stride=4, podding=2),\n",
    "            nn.ReLU(True),\n",
    "            nn.MaxPool2d(size=3, stride=2, dilation=1),\n",
    "            nn.Conv2d(64, 192, kernel_size=5, stride=1, padding=2),\n",
    "            nn.ReLU(True),\n",
    "            nn.MaxPool2d(size=3, stride=2, dilation=1),\n",
    "            nn.Conv2d(192, 384, kernel_size=3, stride=1, padding=1),\n",
    "            nn.ReLU(True),\n",
    "            nn.Conv2d(384, 256, kernel_size=3, stride=1, padding=1),\n",
    "            nn.ReLU(True),\n",
    "            nn.Conv2d(256, 256, kernel_size=3, stride=1, padding=1),\n",
    "            nn.ReLU(True),\n",
    "            nn.MaxPool2d(size=3, stride=2, dilation=1))\n",
    "    \n",
    "        self.classifier=nn.Sequential(\n",
    "            nn.Dropout(0.5),\n",
    "            nn.Linear(9216, 4096),\n",
    "            nn.ReLU(True),\n",
    "            nn.Dropout(0.5),\n",
    "            nn.Linear(4096, 4096),\n",
    "            nn.ReLU(True),\n",
    "            nn.Linear(4096, 1000))\n",
    "    \n",
    "    def forward(self, x):\n",
    "        x=self.features(x)\n",
    "        x=x.view(x.size(0), -1)\n",
    "        x=self.classifier(x)\n",
    "    \n"
   ]
  },
  {
   "cell_type": "code",
   "execution_count": 7,
   "metadata": {},
   "outputs": [],
   "source": [
    "import PIL, torch"
   ]
  },
  {
   "cell_type": "code",
   "execution_count": 14,
   "metadata": {},
   "outputs": [],
   "source": [
    "#load and normalize the image\n",
    "to_tensor=torchvision.transforms.Compose([torchvision.transforms.Resize((244, 244)), torchvision.transforms.ToTensor()])\n",
    "img=to_tensor(PIL.Image.open('C:/Users/Administrator/Desktop/dog.jpg'))"
   ]
  },
  {
   "cell_type": "code",
   "execution_count": 25,
   "metadata": {},
   "outputs": [],
   "source": [
    "img=img.unsqueeze(0)\n",
    "img=0.5+0.5*(img-img.mean())/img.std()"
   ]
  },
  {
   "cell_type": "code",
   "execution_count": 26,
   "metadata": {},
   "outputs": [
    {
     "data": {
      "text/plain": [
       "torch.Size([1, 3, 244, 244])"
      ]
     },
     "execution_count": 26,
     "metadata": {},
     "output_type": "execute_result"
    }
   ],
   "source": [
    "img.shape"
   ]
  },
  {
   "cell_type": "code",
   "execution_count": 27,
   "metadata": {},
   "outputs": [],
   "source": [
    "#load and evaluate the network\n",
    "\n",
    "alexnet=torchvision.models.alexnet(pretrained=True)\n",
    "alexnet.eval()\n",
    "\n",
    "output=alexnet(img)"
   ]
  },
  {
   "cell_type": "code",
   "execution_count": 28,
   "metadata": {},
   "outputs": [],
   "source": [
    "#Prints the classes\n",
    "scores,indexes=output.view(-1).sort(descending=True)"
   ]
  },
  {
   "cell_type": "code",
   "execution_count": 32,
   "metadata": {},
   "outputs": [],
   "source": [
    "class_names=eval(open('C:/Users/Administrator/Desktop/imagenet1000_clsidx_to_labels.txt', 'r').read())"
   ]
  },
  {
   "cell_type": "code",
   "execution_count": 33,
   "metadata": {},
   "outputs": [
    {
     "name": "stdout",
     "output_type": "stream",
     "text": [
      "13.71 golden retriever\n",
      "13.46 clumber, clumber spaniel\n",
      "12.98 English setter\n",
      "12.13 Great Pyrenees\n",
      "11.67 cocker spaniel, English cocker spaniel, cocker\n",
      "11.08 Labrador retriever\n",
      "11.06 otterhound, otter hound\n",
      "10.85 Brittany spaniel\n",
      "10.45 basset, basset hound\n",
      "10.37 kuvasz\n",
      "10.28 Sussex spaniel\n",
      "10.27 Old English sheepdog, bobtail\n",
      "10.12 Tibetan terrier, chrysanthemum dog\n",
      "9.71 tennis ball\n",
      "9.41 Welsh springer spaniel\n"
     ]
    }
   ],
   "source": [
    "for k in range(15):\n",
    "    print('%.02f' %scores[k].item(), class_names[indexes[k].item()])"
   ]
  },
  {
   "cell_type": "code",
   "execution_count": 41,
   "metadata": {},
   "outputs": [],
   "source": [
    "#transforms a series of layers from a standard convnet to make it fully conv\n",
    "\n",
    "def convolutionize(layers, input_size):\n",
    "    \n",
    "    result_layers=[]\n",
    "    x=torch.zeros((1, )+input_size)\n",
    "    \n",
    "    for m in layers:\n",
    "        if isinstance(m ,torch.nn.Linear):\n",
    "            n=torch.nn.Conv2d(in_channels=x.size(1),\n",
    "                             out_channels=m.weight.size(0),\n",
    "                             kernel_size=(x.size(2), x.size(3)))\n",
    "            with torch.no_grad():\n",
    "                n.weight.view(-1).copy_(n.weight.view(-1))\n",
    "                n.bias.view(-1).copy_(m.bias.view(-1))\n",
    "                m=n\n",
    "            \n",
    "        result_layers.append(m)\n",
    "        x=m(x)\n",
    "                \n",
    "    return result_layers"
   ]
  },
  {
   "cell_type": "code",
   "execution_count": 42,
   "metadata": {},
   "outputs": [
    {
     "name": "stdout",
     "output_type": "stream",
     "text": [
      "AlexNet(\n",
      "  (features): Sequential(\n",
      "    (0): Conv2d(3, 64, kernel_size=(11, 11), stride=(4, 4), padding=(2, 2))\n",
      "    (1): ReLU(inplace=True)\n",
      "    (2): MaxPool2d(kernel_size=3, stride=2, padding=0, dilation=1, ceil_mode=False)\n",
      "    (3): Conv2d(64, 192, kernel_size=(5, 5), stride=(1, 1), padding=(2, 2))\n",
      "    (4): ReLU(inplace=True)\n",
      "    (5): MaxPool2d(kernel_size=3, stride=2, padding=0, dilation=1, ceil_mode=False)\n",
      "    (6): Conv2d(192, 384, kernel_size=(3, 3), stride=(1, 1), padding=(1, 1))\n",
      "    (7): ReLU(inplace=True)\n",
      "    (8): Conv2d(384, 256, kernel_size=(3, 3), stride=(1, 1), padding=(1, 1))\n",
      "    (9): ReLU(inplace=True)\n",
      "    (10): Conv2d(256, 256, kernel_size=(3, 3), stride=(1, 1), padding=(1, 1))\n",
      "    (11): ReLU(inplace=True)\n",
      "    (12): MaxPool2d(kernel_size=3, stride=2, padding=0, dilation=1, ceil_mode=False)\n",
      "  )\n",
      "  (avgpool): AdaptiveAvgPool2d(output_size=(6, 6))\n",
      "  (classifier): Sequential(\n",
      "    (0): Dropout(p=0.5, inplace=False)\n",
      "    (1): Linear(in_features=9216, out_features=4096, bias=True)\n",
      "    (2): ReLU(inplace=True)\n",
      "    (3): Dropout(p=0.5, inplace=False)\n",
      "    (4): Linear(in_features=4096, out_features=4096, bias=True)\n",
      "    (5): ReLU(inplace=True)\n",
      "    (6): Linear(in_features=4096, out_features=1000, bias=True)\n",
      "  )\n",
      ")\n"
     ]
    }
   ],
   "source": [
    "#to aaply this to AlexNet:\n",
    "\n",
    "model=torchvision.models.alexnet(pretrained=True)\n",
    "print(model)"
   ]
  },
  {
   "cell_type": "code",
   "execution_count": 43,
   "metadata": {},
   "outputs": [],
   "source": [
    "layers=list(model.features)+list(model.classifier)"
   ]
  },
  {
   "cell_type": "code",
   "execution_count": 44,
   "metadata": {},
   "outputs": [],
   "source": [
    "model=nn.Sequential(*convolutionize(layers, (3, 244, 244)))"
   ]
  },
  {
   "cell_type": "code",
   "execution_count": 45,
   "metadata": {},
   "outputs": [
    {
     "name": "stdout",
     "output_type": "stream",
     "text": [
      "Sequential(\n",
      "  (0): Conv2d(3, 64, kernel_size=(11, 11), stride=(4, 4), padding=(2, 2))\n",
      "  (1): ReLU(inplace=True)\n",
      "  (2): MaxPool2d(kernel_size=3, stride=2, padding=0, dilation=1, ceil_mode=False)\n",
      "  (3): Conv2d(64, 192, kernel_size=(5, 5), stride=(1, 1), padding=(2, 2))\n",
      "  (4): ReLU(inplace=True)\n",
      "  (5): MaxPool2d(kernel_size=3, stride=2, padding=0, dilation=1, ceil_mode=False)\n",
      "  (6): Conv2d(192, 384, kernel_size=(3, 3), stride=(1, 1), padding=(1, 1))\n",
      "  (7): ReLU(inplace=True)\n",
      "  (8): Conv2d(384, 256, kernel_size=(3, 3), stride=(1, 1), padding=(1, 1))\n",
      "  (9): ReLU(inplace=True)\n",
      "  (10): Conv2d(256, 256, kernel_size=(3, 3), stride=(1, 1), padding=(1, 1))\n",
      "  (11): ReLU(inplace=True)\n",
      "  (12): MaxPool2d(kernel_size=3, stride=2, padding=0, dilation=1, ceil_mode=False)\n",
      "  (13): Dropout(p=0.5, inplace=False)\n",
      "  (14): Conv2d(256, 4096, kernel_size=(6, 6), stride=(1, 1))\n",
      "  (15): ReLU(inplace=True)\n",
      "  (16): Dropout(p=0.5, inplace=False)\n",
      "  (17): Conv2d(4096, 4096, kernel_size=(1, 1), stride=(1, 1))\n",
      "  (18): ReLU(inplace=True)\n",
      "  (19): Conv2d(4096, 1000, kernel_size=(1, 1), stride=(1, 1))\n",
      ")\n"
     ]
    }
   ],
   "source": [
    "print(model)"
   ]
  },
  {
   "cell_type": "code",
   "execution_count": null,
   "metadata": {},
   "outputs": [],
   "source": []
  }
 ],
 "metadata": {
  "kernelspec": {
   "display_name": "Python 3",
   "language": "python",
   "name": "python3"
  },
  "language_info": {
   "codemirror_mode": {
    "name": "ipython",
    "version": 3
   },
   "file_extension": ".py",
   "mimetype": "text/x-python",
   "name": "python",
   "nbconvert_exporter": "python",
   "pygments_lexer": "ipython3",
   "version": "3.8.3"
  }
 },
 "nbformat": 4,
 "nbformat_minor": 4
}
